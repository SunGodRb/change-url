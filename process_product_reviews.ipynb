{
 "cells": [
  {
   "cell_type": "code",
   "execution_count": null,
   "metadata": {},
   "outputs": [],
   "source": [
    "# 导入所需库\n",
    "import pandas as pd\n",
    "import matplotlib.pyplot as plt"
   ]
  },
  {
   "cell_type": "code",
   "execution_count": null,
   "metadata": {},
   "outputs": [],
   "source": [
    "# 读取CSV文件\n",
    "file_path = 'product_reviews.csv'\n",
    "df = pd.read_csv(file_path)\n",
    "\n",
    "# 计算每个产品的平均评分\n",
    "product_avg_rating = df.groupby('product_id')['rating'].mean().reset_index()\n",
    "\n",
    "# 重命名平均评分column\n",
    "product_avg_rating.columns = ['product_id', 'average_rating']\n",
    "\n",
    "# 找出平均评分最高的前10个产品\n",
    "top_10_products = product_avg_rating.sort_values(by='average_rating', ascending=False).head(10)\n",
    "\n",
    "# 显示评分最高的前10个产品\n",
    "print(top_10_products)"
   ]
  },
  {
   "cell_type": "code",
   "execution_count": null,
   "metadata": {},
   "outputs": [],
   "source": [
    "# 将'review_date'列的数据都转化为日期格式\n",
    "df['review_date'] = pd.to_datetime(df['review_date'])\n",
    "\n",
    "# 找到12个月前的具体日期，并根据review_date 过滤其他日期的数据，保存为新的df\n",
    "last_12_months = df[df['review_date'] >= (pd.Timestamp.now() - pd.DateOffset(months=12))]\n",
    "\n",
    "# 以月为单位，平均值为计算方式，聚合last_12_months\n",
    "monthly_avg_rating = last_12_months.resample('M', on='review_date')['rating'].mean().reset_index()\n",
    "\n",
    "# 根据monthly)avg_rating 绘制图表，设置图表名称，x轴、y轴名称和标签显示方式\n",
    "plt.figure(figsize=(10, 5))\n",
    "plt.plot(monthly_avg_rating['review_date'], monthly_avg_rating['rating'], marker='o')\n",
    "plt.title('过去12个月的平均评分趋势')\n",
    "plt.xlabel('date')\n",
    "plt.ylabel('average_rank')\n",
    "plt.grid(True)\n",
    "plt.xticks(rotation=45)\n",
    "\n",
    "# 展示图表\n",
    "plt.show()"
   ]
  }
 ],
 "metadata": {
  "kernelspec": {
   "display_name": "base",
   "language": "python",
   "name": "python3"
  },
  "language_info": {
   "name": "python",
   "version": "3.9.19"
  }
 },
 "nbformat": 4,
 "nbformat_minor": 2
}
